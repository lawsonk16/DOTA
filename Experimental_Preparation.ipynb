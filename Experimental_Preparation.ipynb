{
  "nbformat": 4,
  "nbformat_minor": 0,
  "metadata": {
    "colab": {
      "name": "Experimental_Preparation.ipynb",
      "provenance": [],
      "collapsed_sections": [],
      "include_colab_link": true
    },
    "kernelspec": {
      "name": "python3",
      "display_name": "Python 3"
    },
    "language_info": {
      "name": "python"
    }
  },
  "cells": [
    {
      "cell_type": "markdown",
      "metadata": {
        "id": "view-in-github",
        "colab_type": "text"
      },
      "source": [
        "<a href=\"https://colab.research.google.com/github/lawsonk16/Remote-Sensing-Datasets/blob/main/Experimental_Preparation.ipynb\" target=\"_parent\"><img src=\"https://colab.research.google.com/assets/colab-badge.svg\" alt=\"Open In Colab\"/></a>"
      ]
    },
    {
      "cell_type": "markdown",
      "metadata": {
        "id": "8v6SScabCCdN"
      },
      "source": [
        "# Experimental Options\n",
        "Once you've converted a given dataset into the COCO format, this notebook provides what you need in order to:\n",
        " - chip large images to a different size\n",
        "\n",
        "Here, the paths used are on FAIR1M in my own google drive, but switching up some file paths would let you use any coco dataset for these operations\n",
        "\n",
        "<b> NOTE FOR COLAB USERS </b> For speed of processing, you will likely want to add whichever module you're looking for to the end of the notebook where you convert your data to the COCO format - since any files will already be locally available, just be sure to delete things as you go to avoid running out of space.\n",
        "\n",
        "To Do:\n",
        " - GSD normalization\n",
        " - Chipping for classification\n",
        " - (more difficult) sliding chipping, or more complex chipping options"
      ]
    },
    {
      "cell_type": "code",
      "source": [
        "# first, mount your drive\n",
        "from google.colab import drive\n",
        "drive.mount('/content/drive')"
      ],
      "metadata": {
        "colab": {
          "base_uri": "https://localhost:8080/"
        },
        "id": "sBwD7U90F5xS",
        "outputId": "77fb2172-160f-4d35-ad3a-c73da2f2d32a"
      },
      "execution_count": 1,
      "outputs": [
        {
          "output_type": "stream",
          "name": "stdout",
          "text": [
            "Mounted at /content/drive\n"
          ]
        }
      ]
    },
    {
      "cell_type": "code",
      "metadata": {
        "id": "aNjOfTHLm2ul"
      },
      "source": [
        "from matplotlib import pyplot as plt\n",
        "\n",
        "# this notebook uses scripts available in my git repo\n",
        "import sys\n",
        "notebook_folders = ['/content/drive/MyDrive/Colab Notebooks/scripts/']\n",
        "\n",
        "for folder in notebook_folders:\n",
        "    sys.path.append(folder)\n",
        "\n",
        "from coco_utils.coco_help import *\n",
        "from coco_data.fair1m_coco import *\n",
        "\n",
        "import shutil\n",
        "import os"
      ],
      "execution_count": 2,
      "outputs": []
    },
    {
      "cell_type": "markdown",
      "source": [
        "## Part 0 - Get your data\n",
        "\n",
        "Regardless of your process, you will need access to some annotations and imagery - get that locally available, or else point to it"
      ],
      "metadata": {
        "id": "damDe59cCw2y"
      }
    },
    {
      "cell_type": "code",
      "source": [
        "# Set up some base file paths\n",
        "\n",
        "# where the data currently is, and where you want to operate on it\n",
        "og_data_folder = '/content/drive/MyDrive/Colab Notebooks/SCHOOL/Final Project/Data/FAIR1M/ISPRS Benchmark/FAIR1M1.0/train/'\n",
        "data_folder = '/content/ISPRS Benchmark/train/'\n",
        "\n",
        "# where the json is\n",
        "json_path = 'fair1m_coco.json'\n",
        "\n",
        "# where the imagery will be\n",
        "images = f'{data_folder}images/'\n",
        "\n",
        "# where you will store your resulting files\n",
        "dst_folder = '/content/drive/MyDrive/Colab Notebooks/Clean Datasets/FAIR1M/'"
      ],
      "metadata": {
        "id": "oUqT5z6pqBg4"
      },
      "execution_count": 3,
      "outputs": []
    },
    {
      "cell_type": "code",
      "source": [
        "# Copy any files you don't already have locally\n",
        "shutil.copy('/content/drive/MyDrive/Colab Notebooks/Clean Datasets/FAIR1M/fair1m_coco.json', '/content/')\n",
        "\n",
        "shutil.copytree(og_data_folder, data_folder)\n",
        "\n",
        "# note that you will have to change this unopacking process for a different dataset\n",
        "shutil.unpack_archive(f'{data_folder}part1/images.zip', data_folder)\n",
        "shutil.unpack_archive(f'{data_folder}part1/labelXml.zip', data_folder)\n",
        "shutil.rmtree(f'{data_folder}part1/')\n",
        "shutil.unpack_archive(f'{data_folder}part2/images.zip', data_folder)\n",
        "shutil.unpack_archive(f'{data_folder}part2/labelXmls.zip', data_folder)\n",
        "shutil.rmtree(f'{data_folder}part2/')"
      ],
      "metadata": {
        "id": "etlwPul51G-V"
      },
      "execution_count": null,
      "outputs": []
    },
    {
      "cell_type": "markdown",
      "source": [
        "## 1 -  Image Chipping"
      ],
      "metadata": {
        "id": "o1Ysji_F2vZH"
      }
    },
    {
      "cell_type": "markdown",
      "source": [
        "#### 1.1 Sub-Chip Images\n",
        " - Remote sensing images are often too large to work with in detectors, without chipping the images down to a smaller size. This function allows you to choose a new image size, and point to a COCO file. It will:\n",
        "  - Chip the images\n",
        "  - Adjust the annotations to the new imagery"
      ],
      "metadata": {
        "id": "wGPokfhj1hFP"
      }
    },
    {
      "cell_type": "code",
      "source": [
        "# set up paths to newly chipped images\n",
        "chip_size = 400\n",
        "new_image_folder = f'FAIR1M_{chip_size}_images/'\n",
        "\n",
        "# subchip images\n",
        "subchip_images(json_path, images, new_image_folder, chip_size)"
      ],
      "metadata": {
        "id": "-G-5CXhxrLkz"
      },
      "execution_count": null,
      "outputs": []
    },
    {
      "cell_type": "markdown",
      "source": [
        "#### (Optional) Move the files elsewhere\n",
        " - These file paths are absolute - change them to be relevant to your experimental parameters\n",
        " - If you are low on local storage, you can delete the pre-chipping imagery before creating your zip file "
      ],
      "metadata": {
        "id": "w57nqQM716_r"
      }
    },
    {
      "cell_type": "code",
      "source": [
        "# Zip up your new images\n",
        "! zip -rq 'images_400.zip' '/content/FAIR1M_400_images/'\n",
        "\n",
        "# Copy the annotations and imagery\n",
        "shutil.copy2(f'images_{chip_size}.zip', dst_folder)\n",
        "shutil.copy2(f'/content/fair1m_coco_{chip_size}.json', dst_folder)"
      ],
      "metadata": {
        "id": "oWAMupKOqflg"
      },
      "execution_count": null,
      "outputs": []
    },
    {
      "cell_type": "code",
      "source": [
        ""
      ],
      "metadata": {
        "id": "NjrkHG_Z38cj"
      },
      "execution_count": null,
      "outputs": []
    }
  ]
}